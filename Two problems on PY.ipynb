{
  "cells": [
    {
      "cell_type": "markdown",
      "metadata": {},
      "source": [
        "Problem 1\n",
        "Challenge: You have a list of products, where each product is represented by a dictionary containing\n",
        "the product’s name, category, and price. Write a function called categorize_and_discount that:\n",
        "1. Groups the products by category.\n",
        "2. Applies a 20% discount to products priced above $100.\n",
        "3. Returns a new dictionary where each category is a key, and its value is a list of product names\n",
        "(with the updated prices in parentheses) within that category.\n",
        "\n",
        "products = [\n",
        "{\"name\": \"Laptop\", \"category\": \"Electronics\", \"price\": 1200},\n",
        "{\"name\": \"Smartphone\", \"category\": \"Electronics\", \"price\": 800},\n",
        "{\"name\": \"Shoes\", \"category\": \"Clothing\", \"price\": 60},\n",
        "{\"name\": \"Jacket\", \"category\": \"Clothing\", \"price\": 150},\n",
        "{\"name\": \"Blender\", \"category\": \"Home Appliances\", \"price\": 120},\n",
        "{\"name\": \"Toaster\", \"category\": \"Home Appliances\", \"price\": 40}\n",
        "]"
      ]
    },
    {
      "cell_type": "code",
      "execution_count": 29,
      "metadata": {
        "colab": {
          "base_uri": "https://localhost:8080/"
        },
        "id": "lLw5XhCMjidu",
        "outputId": "06dbd2ac-3738-4f03-ecff-f04986c455b3"
      },
      "outputs": [
        {
          "name": "stdout",
          "output_type": "stream",
          "text": [
            "{'Electronics': ['name: Laptop,price: 960.0$', 'name: Smartphone,price: 640.0$'], 'Clothing': ['name: Shoes,price: 60$', 'name: Jacket,price: 120.0$'], 'Home Appliances': ['name: Blender,price: 96.0$', 'name: Toaster,price: 40$']}\n"
          ]
        }
      ],
      "source": [
        "# problem_1\n",
        "def categorize_and_discount(products):\n",
        "  categorized_products ={}\n",
        "  for product in products:\n",
        "        category = product['category']\n",
        "        name = product['name']\n",
        "        price = product['price']\n",
        "        if price >100:\n",
        "          price *= 0.8\n",
        "        product_info = f\"name: {name},price: {price}$\"\n",
        "        if category not in categorized_products:\n",
        "          categorized_products[category] = []\n",
        "        categorized_products[category].append(product_info)\n",
        "  return categorized_products\n",
        "\n",
        "products = [\n",
        "{\"name\": \"Laptop\", \"category\": \"Electronics\", \"price\": 1200},\n",
        "{\"name\": \"Smartphone\", \"category\": \"Electronics\", \"price\": 800},\n",
        "{\"name\": \"Shoes\", \"category\": \"Clothing\", \"price\": 60},\n",
        "{\"name\": \"Jacket\", \"category\": \"Clothing\", \"price\": 150},\n",
        "{\"name\": \"Blender\", \"category\": \"Home Appliances\", \"price\": 120},\n",
        "{\"name\": \"Toaster\", \"category\": \"Home Appliances\", \"price\": 40}\n",
        "]\n",
        "result = categorize_and_discount(products)\n",
        "print(result)"
      ]
    },
    {
      "cell_type": "markdown",
      "metadata": {},
      "source": [
        "Problem 2\n",
        "Instructions:\n",
        "\n",
        "Create an empty shopping list.\n",
        "Allow the user to add items to the shopping list.\n",
        "If the user enters ‘done’ you will stop ‘add’.\n",
        "Print the final shopping list.\n",
        "\n",
        "Example output\n",
        "\n",
        "● Add an item to your shopping list: Apples\n",
        "\n",
        "● Add another item (or type 'done' to finish): Bread\n",
        "\n",
        "● Add another item (or type 'done' to finish): Milk\n",
        "\n",
        "● Add another item (or type 'done' to finish): done\n",
        "\n",
        "● Shopping list: ['Apples', 'Bread', 'Milk']"
      ]
    },
    {
      "cell_type": "code",
      "execution_count": 33,
      "metadata": {
        "colab": {
          "base_uri": "https://localhost:8080/"
        },
        "id": "bgRjnRLF5Rfm",
        "outputId": "75ea4c7c-544b-4b4a-a050-dbdf0a0a5965"
      },
      "outputs": [
        {
          "name": "stdout",
          "output_type": "stream",
          "text": [
            "add an item to your shoping list: Apples\n",
            "add an item to your shoping list or type done to finish: Bread\n",
            "add an item to your shoping list or type done to finish: Milk\n",
            "add an item to your shoping list or type done to finish: done\n",
            "shoppingList: ['Apples', 'Bread', 'Milk']\n"
          ]
        }
      ],
      "source": [
        "# problem_2\n",
        "shoppingList=[]\n",
        "item = input(\"add an item to your shoping list: \")\n",
        "while True :\n",
        "  if item.lower() == \"done\": # some times customer enter done with uper case so to avoid that we do this\n",
        "    break\n",
        "  shoppingList.append(item)\n",
        "  item = input(\"add an item to your shoping list or type done to finish: \")\n",
        "print (\"shoppingList:\",shoppingList)"
      ]
    }
  ],
  "metadata": {
    "colab": {
      "provenance": []
    },
    "kernelspec": {
      "display_name": "Python 3",
      "name": "python3"
    },
    "language_info": {
      "name": "python"
    }
  },
  "nbformat": 4,
  "nbformat_minor": 0
}
