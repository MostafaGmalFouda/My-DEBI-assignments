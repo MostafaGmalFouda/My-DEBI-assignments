{
  "cells": [
    {
      "cell_type": "markdown",
      "metadata": {},
      "source": [
        "This assignment includes two primary problems focusing on basic programming concepts: string manipulation and even-odd number checking. \n",
        "These problems will help reinforce string manipulation techniques and basic conditional logic in programming, two essential skills for foundational coding."
      ]
    },
    {
      "cell_type": "code",
      "execution_count": null,
      "metadata": {
        "colab": {
          "base_uri": "https://localhost:8080/"
        },
        "id": "jcFctmdGjV3U",
        "outputId": "eeae7337-c82e-4a63-87a3-2591d8743d4e"
      },
      "outputs": [
        {
          "name": "stdout",
          "output_type": "stream",
          "text": [
            "Hello world, Welcome to python programming\n",
            "HELLO WORLD, WELCOME TO PYTHON PROGRAMMING\n",
            "Hello universe, Welcome to python programming\n",
            "['Hello', 'world,', 'Welcome', 'to', 'python', 'programming']\n"
          ]
        }
      ],
      "source": [
        "sentence_1 = \"Hello world, Welcome to python programming\"\n",
        "print(sentence_1)\n",
        "newSentence_1 =sentence_1.upper()\n",
        "print (newSentence_1)\n",
        "newSentence_2 =sentence_1.replace(\"world\",\"universe\")\n",
        "print (newSentence_2)\n",
        "list_1 = sentence_1.split()\n",
        "print(list_1)"
      ]
    },
    {
      "cell_type": "code",
      "execution_count": null,
      "metadata": {
        "id": "2gTHueXKxguO"
      },
      "outputs": [],
      "source": [
        "num = 7\n",
        "if num %2 ==0 :\n",
        "        print(\"number is even\")\n",
        "else :\n",
        "        print(\"number is odd\")"
      ]
    }
  ],
  "metadata": {
    "colab": {
      "provenance": []
    },
    "kernelspec": {
      "display_name": "Python 3",
      "name": "python3"
    },
    "language_info": {
      "name": "python"
    }
  },
  "nbformat": 4,
  "nbformat_minor": 0
}
